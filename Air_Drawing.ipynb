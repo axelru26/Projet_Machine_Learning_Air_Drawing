{
 "cells": [
  {
   "metadata": {
    "ExecuteTime": {
     "end_time": "2025-06-06T15:08:26.122632Z",
     "start_time": "2025-06-06T15:08:18.588391Z"
    }
   },
   "cell_type": "code",
   "source": [
    "# Imports\n",
    "import cv2\n",
    "import os\n",
    "import numpy as np\n",
    "import pandas as pd\n",
    "import shutil\n",
    "import kagglehub\n",
    "import keras\n",
    "\n",
    "import tensorflow as tf\n",
    "from keras.applications import ResNet50V2, MobileNetV2\n",
    "from keras import layers, models\n",
    "from keras.optimizers import Adam\n",
    "from keras import Sequential\n",
    "from keras.layers import Dense, Dropout, Flatten, Conv2D, MaxPooling2D, LeakyReLU, BatchNormalization\n",
    "from keras.src.callbacks import EarlyStopping\n",
    "\n",
    "# Visualization\n",
    "import matplotlib.pyplot as plt\n",
    "\n",
    "## Handtracking and Image modification\n",
    "from cvzone.HandTrackingModule import HandDetector\n",
    "from skimage.morphology import skeletonize\n",
    "from skimage.measure import label, regionprops"
   ],
   "id": "72515e11f43eee7b",
   "outputs": [
    {
     "name": "stderr",
     "output_type": "stream",
     "text": [
      "/home/lizardman/Coding/Projet_Machine_Learning_Air_Drawing/venv312/lib/python3.12/site-packages/tqdm/auto.py:21: TqdmWarning: IProgress not found. Please update jupyter and ipywidgets. See https://ipywidgets.readthedocs.io/en/stable/user_install.html\n",
      "  from .autonotebook import tqdm as notebook_tqdm\n",
      "2025-06-06 17:08:20.382660: I tensorflow/core/util/port.cc:153] oneDNN custom operations are on. You may see slightly different numerical results due to floating-point round-off errors from different computation orders. To turn them off, set the environment variable `TF_ENABLE_ONEDNN_OPTS=0`.\n",
      "2025-06-06 17:08:20.389966: I external/local_xla/xla/tsl/cuda/cudart_stub.cc:32] Could not find cuda drivers on your machine, GPU will not be used.\n",
      "2025-06-06 17:08:20.447811: I external/local_xla/xla/tsl/cuda/cudart_stub.cc:32] Could not find cuda drivers on your machine, GPU will not be used.\n",
      "2025-06-06 17:08:20.504526: E external/local_xla/xla/stream_executor/cuda/cuda_fft.cc:467] Unable to register cuFFT factory: Attempting to register factory for plugin cuFFT when one has already been registered\n",
      "WARNING: All log messages before absl::InitializeLog() is called are written to STDERR\n",
      "E0000 00:00:1749222500.563068    3694 cuda_dnn.cc:8579] Unable to register cuDNN factory: Attempting to register factory for plugin cuDNN when one has already been registered\n",
      "E0000 00:00:1749222500.580027    3694 cuda_blas.cc:1407] Unable to register cuBLAS factory: Attempting to register factory for plugin cuBLAS when one has already been registered\n",
      "W0000 00:00:1749222500.679797    3694 computation_placer.cc:177] computation placer already registered. Please check linkage and avoid linking the same target more than once.\n",
      "W0000 00:00:1749222500.679831    3694 computation_placer.cc:177] computation placer already registered. Please check linkage and avoid linking the same target more than once.\n",
      "W0000 00:00:1749222500.679835    3694 computation_placer.cc:177] computation placer already registered. Please check linkage and avoid linking the same target more than once.\n",
      "W0000 00:00:1749222500.679838    3694 computation_placer.cc:177] computation placer already registered. Please check linkage and avoid linking the same target more than once.\n",
      "2025-06-06 17:08:20.694747: I tensorflow/core/platform/cpu_feature_guard.cc:210] This TensorFlow binary is optimized to use available CPU instructions in performance-critical operations.\n",
      "To enable the following instructions: AVX2 AVX_VNNI FMA, in other operations, rebuild TensorFlow with the appropriate compiler flags.\n"
     ]
    }
   ],
   "execution_count": 1
  },
  {
   "metadata": {},
   "cell_type": "markdown",
   "source": [
    "# Projet - Air Drawing\n",
    "---\n",
    "EXPLICATION DE LA PROBLEMATIQUE"
   ],
   "id": "f9157f417d992e1"
  },
  {
   "metadata": {},
   "cell_type": "markdown",
   "source": [
    "## Datsets\n",
    "---"
   ],
   "id": "31761a2103224f69"
  },
  {
   "metadata": {},
   "cell_type": "markdown",
   "source": [
    "### Autre Dataset\n",
    "Explication de pourquoi est ce qu'on ne la pas pris car moins bien etc\n",
    "Solution : EMNIST"
   ],
   "id": "86db007aa8643fed"
  },
  {
   "metadata": {},
   "cell_type": "markdown",
   "source": [
    "### EMNIST\n",
    "Le jeu de données EMNIST (Extended MNIST) est un ensemble de caractères manuscrits dérivé de la base de données NIST Special Database 19. Il a été converti au format d’image 28x28 pixels, avec une structure de données qui correspond directement à celle du jeu de données MNIST. EMNIST étend MNIST en incluant non seulement des chiffres, mais aussi des lettres majuscules et minuscules manuscrites, offrant ainsi un ensemble plus riche pour les tâches de reconnaissance de caractères."
   ],
   "id": "6afbf0e500f774a3"
  },
  {
   "metadata": {
    "ExecuteTime": {
     "end_time": "2025-06-06T14:40:12.696206Z",
     "start_time": "2025-06-06T14:40:11.727425Z"
    }
   },
   "cell_type": "code",
   "source": [
    "# Télécharger dans le dossier par défaut non modifiable (cache de kagglehub)\n",
    "dataset_path = kagglehub.dataset_download(\"crawford/emnist\")\n",
    "\n",
    "# Dossier cible\n",
    "custom_path = \"./Datasets/emnist_datasets\"\n",
    "os.makedirs(custom_path, exist_ok=True)\n",
    "\n",
    "# Parcourir tout ce qu’il y a dans dataset_path\n",
    "for item in os.listdir(dataset_path):\n",
    "    src = os.path.join(dataset_path, item)\n",
    "    dst = os.path.join(custom_path, item)\n",
    "    shutil.move(src, dst)"
   ],
   "id": "a2dffe985c21bdaf",
   "outputs": [],
   "execution_count": 2
  },
  {
   "metadata": {},
   "cell_type": "markdown",
   "source": [
    "### EMNIST (By_Class)\n",
    "L'ensemble complet de la base de données EMNIST est disponible dans le sous-ensembles ByClass.\n",
    "Le jeu ByClass contient 62 classes distinctes : les 10 chiffres (0–9), les 26 lettres majuscules (A–Z) et les 26 lettres minuscules (a–z).\n",
    "La répartition est déséquilibrée : certaines classes ont beaucoup plus d’exemples que d’autres.\n",
    "La fréquence des lettres reflète à peu près leur fréquence d'usage dans la langue anglaise.\n",
    "\n",
    "__Taille des ensembles :__\n",
    "- Entraînement : 697 932 images\n",
    "- Test : 116 323 images\n",
    "- Total : 814 255 images\n",
    "\n",
    "__Classes :__\n",
    "- ByClass : 62 classes (déséquilibrées)\n"
   ],
   "id": "76e9da62ae9c2fbd"
  },
  {
   "metadata": {
    "ExecuteTime": {
     "end_time": "2025-06-06T15:30:21.577404Z",
     "start_time": "2025-06-06T15:30:20.484424Z"
    }
   },
   "cell_type": "code",
   "source": [
    "# Recupération des train_data de EMNITST\n",
    "#train_data = pd.read_csv('./Datasets/emnist_datasets/emnist-byclass-train.csv', header=None, nrows=300000).to_numpy()\n",
    "train_data = pd.read_csv('./Datasets/emnist_datasets/emnist-byclass-train.csv', header=None, nrows=50000).to_numpy()\n",
    "# Dataset Comprends 697 932 entrées, par raison de performances nous avons limités la charge à 300K.\n",
    "print(train_data.shape)"
   ],
   "id": "348b9dcd148af826",
   "outputs": [
    {
     "name": "stdout",
     "output_type": "stream",
     "text": [
      "(50000, 785)\n"
     ]
    }
   ],
   "execution_count": 12
  },
  {
   "metadata": {
    "ExecuteTime": {
     "end_time": "2025-06-06T15:30:28.427100Z",
     "start_time": "2025-06-06T15:30:27.830095Z"
    }
   },
   "cell_type": "code",
   "source": [
    "# Recupération des test_data de EMNITST\n",
    "#test_data = pd.read_csv('./Datasets/emnist_datasets/emnist-byclass-test.csv', header=None).to_numpy()\n",
    "test_data = pd.read_csv('./Datasets/emnist_datasets/emnist-byclass-test.csv', header=None, nrows=30000).to_numpy()\n",
    "print(test_data.shape)"
   ],
   "id": "2270763d71856610",
   "outputs": [
    {
     "name": "stdout",
     "output_type": "stream",
     "text": [
      "(30000, 785)\n"
     ]
    }
   ],
   "execution_count": 13
  },
  {
   "metadata": {},
   "cell_type": "markdown",
   "source": [
    "Les test_data permet au modèle de voir s'il se généralise bien et qu'il ne fait pas du sur-apprentissage (évaluation époque par époque).\n",
    "Pratique pour stopper ou débugger l'entrainement du modèle."
   ],
   "id": "138dee2d6c11a222"
  },
  {
   "metadata": {
    "ExecuteTime": {
     "end_time": "2025-06-06T15:30:38.744019Z",
     "start_time": "2025-06-06T15:30:38.629372Z"
    }
   },
   "cell_type": "code",
   "source": [
    "# Recupération des label_mapping de EMNITST\n",
    "label_mapping = np.genfromtxt('./Datasets/emnist_datasets/emnist-byclass-mapping.txt', delimiter=' ')\n",
    "\n",
    "label_trans = {}\n",
    "for label in label_mapping:\n",
    "    label_trans[label[0]] = chr(int(label[1]))\n",
    "\n",
    "# Exemple d'une donnée EMNIST\n",
    "img_nb = 150\n",
    "print(label_trans[train_data[img_nb,0]])\n",
    "plt.imshow(train_data[img_nb,1:].reshape(28,28).T, cmap='gray')\n",
    "plt.show()"
   ],
   "id": "530c68c004667957",
   "outputs": [
    {
     "name": "stdout",
     "output_type": "stream",
     "text": [
      "W\n"
     ]
    },
    {
     "data": {
      "text/plain": [
       "<Figure size 640x480 with 1 Axes>"
      ],
      "image/png": "[encoded data removed]"
     },
     "metadata": {},
     "output_type": "display_data"
    }
   ],
   "execution_count": 15
  },
  {
   "metadata": {
    "ExecuteTime": {
     "end_time": "2025-06-06T15:30:40.599601Z",
     "start_time": "2025-06-06T15:30:40.455256Z"
    }
   },
   "cell_type": "code",
   "source": [
    "# Préparation des données :\n",
    "\n",
    "# 1) Séparation des labels \"y\" et les données de l'image \"x\"\n",
    "# Entrainement\n",
    "train_x = train_data[:,1:]\n",
    "train_y = train_data[:,0]\n",
    "# Test\n",
    "test_x = test_data[:,1:]\n",
    "test_y = test_data[:,0]\n",
    "\n",
    "# 2) Normalisation (valeur des \"x\" entre 0 et 1) -> Plus facile pour l'entrainement\n",
    "train_x = train_x / 255.0\n",
    "test_x = test_x / 255.0\n",
    "\n",
    "# 3) Reshape (Keras attend un format [batch_size, hauteur, largeur, canaux])\n",
    "train_count = train_x.shape[0]\n",
    "train_x = train_x.reshape(train_count, 28, 28, 1)\n",
    "\n",
    "test_count = test_x.shape[0]\n",
    "test_x = test_x.reshape(test_count, 28, 28, 1)\n",
    "\n",
    "# 4) Transformation des labels (Chiffre en vecteur binaire)\n",
    "num_classes = 63 # (62 catégorie allant de 1 à 62 donc liste de longueur 63)\n",
    "\n",
    "train_y = keras.utils.to_categorical(train_y, num_classes)\n",
    "test_y = keras.utils.to_categorical(test_y, num_classes)"
   ],
   "id": "52c086e324ec6cc9",
   "outputs": [],
   "execution_count": 16
  },
  {
   "metadata": {},
   "cell_type": "markdown",
   "source": "Nos données provenant du dataset EMNIST(By_Class) sont maintanant pretes à etre utiliser dans nos différents modèle.",
   "id": "3650e8801ef12f35"
  },
  {
   "metadata": {},
   "cell_type": "markdown",
   "source": [
    "### EMNIST (Letters)\n",
    "Le jeu de données EMNIST Letters fusionne un ensemble équilibré de lettres majuscules et minuscules en une seule tâche de classification à 26 classes (une par lettre de l’alphabet).\n",
    "\n",
    "- Entraînement : 88 800 images\n",
    "- Test : 14 800 images\n",
    "- Total : 103 600 images\n",
    "- Nombre de classes : 26 (répartition équilibrée)\n"
   ],
   "id": "3d2a5349da6d575b"
  },
  {
   "metadata": {},
   "cell_type": "markdown",
   "source": [
    "## Entrainement de lettres\n",
    "---"
   ],
   "id": "fc153857886dc1a6"
  },
  {
   "metadata": {},
   "cell_type": "markdown",
   "source": "### Option A (CNN Maison)",
   "id": "3f895474dc7222da"
  },
  {
   "metadata": {},
   "cell_type": "markdown",
   "source": "#### CCN Maison 1",
   "id": "c38af1e1c2488e61"
  },
  {
   "metadata": {},
   "cell_type": "markdown",
   "source": "##### Modèle",
   "id": "e68773fc9fa5d38f"
  },
  {
   "metadata": {},
   "cell_type": "code",
   "source": [
    "# Définition du premier modèle\n",
    "model_cnn1 = Sequential()\n",
    "\n",
    "# Creating conv layer 1\n",
    "model_cnn1.add(Conv2D(32, kernel_size=(3, 3), activation='linear', padding='same', input_shape=[28, 28, 1]))\n",
    "model_cnn1.add(LeakyReLU(alpha=0.1))\n",
    "model_cnn1.add(MaxPooling2D((2, 2), padding='same'))\n",
    "model_cnn1.add(Dropout(0.25))\n",
    "\n",
    "# Creating conv layer 2\n",
    "model_cnn1.add(Conv2D(64, (3, 3), activation='linear', padding='same'))\n",
    "model_cnn1.add(LeakyReLU(alpha=0.1))\n",
    "model_cnn1.add(MaxPooling2D(pool_size=(2, 2), padding='same'))\n",
    "model_cnn1.add(Dropout(0.25))\n",
    "\n",
    "# Adding the dense final part\n",
    "model_cnn1.add(Flatten())\n",
    "model_cnn1.add(Dense(1024, activation='linear'))\n",
    "model_cnn1.add(LeakyReLU(alpha=0.1))\n",
    "model_cnn1.add(Dropout(0.25))\n",
    "model_cnn1.add(Dense(num_classes, activation='softmax'))\n",
    "\n",
    "model_cnn1.compile(optimizer='adam', loss='categorical_crossentropy', metrics=['accuracy'])\n",
    "\n",
    "model_cnn1.summary()"
   ],
   "id": "b731265ac3cd6d24",
   "outputs": [],
   "execution_count": null
  },
  {
   "metadata": {},
   "cell_type": "code",
   "source": [
    "# Apprentissage du modèle\n",
    "model_cnn1_history = model_cnn1.fit(train_x, train_y, validation_data=(test_x, test_y), epochs=10)"
   ],
   "id": "2df8c0d3313ca6af",
   "outputs": [],
   "execution_count": null
  },
  {
   "metadata": {},
   "cell_type": "markdown",
   "source": "##### Tableau d'apprentissage",
   "id": "eaf62a818eec60c4"
  },
  {
   "metadata": {},
   "cell_type": "code",
   "source": [
    "# Valeurs importantes lors de l'apprentissage du modèle\n",
    "model_train_acc_cnn1 = model_cnn1_history.history['accuracy']\n",
    "model_valid_acc_cnn1 = model_cnn1_history.history['val_accuracy']\n",
    "model_train_loss_cnn1 = model_cnn1_history.history['loss']\n",
    "model_valid_loss_cnn1 = model_cnn1_history.history['val_loss']\n",
    "\n",
    "# Graphiques de l'apprentissage\n",
    "fig,(ax0,ax1) = plt.subplots(1, 2, figsize=(15,4))\n",
    "\n",
    "# Accuracy graph\n",
    "ax0.plot(model_train_acc_cnn1, label=\"Train Acc.\")\n",
    "ax0.plot(model_valid_acc_cnn1, label=\"Valid. Acc.\")\n",
    "\n",
    "ax0.set_xlabel('Epoch')\n",
    "ax0.set_ylabel('Accuracy(%)')\n",
    "ax0.legend(loc='lower right', fancybox=True, shadow=True, ncol=4)\n",
    "ax0.grid()\n",
    "\n",
    "# Loss graph\n",
    "ax1.plot(model_train_loss_cnn1, label=\"Train Loss\")\n",
    "ax1.plot(model_valid_loss_cnn1, label=\"Valid. Loss\")\n",
    "\n",
    "ax1.set_xlabel('Epoch')\n",
    "ax1.set_ylabel('Loss')\n",
    "ax1.legend(loc='upper right', fancybox=True, shadow=True, ncol=4)\n",
    "ax1.grid()"
   ],
   "id": "9442dfdb15ebdad6",
   "outputs": [],
   "execution_count": null
  },
  {
   "metadata": {},
   "cell_type": "markdown",
   "source": "#### CCN Maison 2",
   "id": "2163d2bd3e6a00ab"
  },
  {
   "metadata": {},
   "cell_type": "markdown",
   "source": "##### Modèle",
   "id": "c4ec8c8062e0b350"
  },
  {
   "metadata": {},
   "cell_type": "code",
   "source": [
    "# Définition du deuxième modèle\n",
    "model_cnn2 = Sequential()\n",
    "\n",
    "# Convolution 1\n",
    "model_cnn2.add(Conv2D(32, kernel_size=(3, 3), padding='same', input_shape=(28, 28, 1)))\n",
    "model_cnn2.add(BatchNormalization())\n",
    "model_cnn2.add(LeakyReLU(alpha=0.1))\n",
    "model_cnn2.add(MaxPooling2D(pool_size=(2, 2)))\n",
    "model_cnn2.add(Dropout(0.2))\n",
    "\n",
    "# Convolution 2\n",
    "model_cnn2.add(Conv2D(64, kernel_size=(3, 3), padding='same'))\n",
    "model_cnn2.add(BatchNormalization())\n",
    "model_cnn2.add(LeakyReLU(alpha=0.1))\n",
    "model_cnn2.add(MaxPooling2D(pool_size=(2, 2)))\n",
    "model_cnn2.add(Dropout(0.3))\n",
    "\n",
    "# Convolution 3\n",
    "model_cnn2.add(Conv2D(128, kernel_size=(3, 3), padding='same'))\n",
    "model_cnn2.add(BatchNormalization())\n",
    "model_cnn2.add(LeakyReLU(alpha=0.1))\n",
    "model_cnn2.add(MaxPooling2D(pool_size=(2, 2)))\n",
    "model_cnn2.add(Dropout(0.4))\n",
    "\n",
    "# Dense layers\n",
    "model_cnn2.add(Flatten())\n",
    "model_cnn2.add(Dense(256))\n",
    "model_cnn2.add(LeakyReLU(alpha=0.1))\n",
    "model_cnn2.add(Dropout(0.5))\n",
    "\n",
    "model_cnn2.add(Dense(num_classes, activation='softmax'))\n",
    "\n",
    "# Compilation\n",
    "model_cnn2.compile(optimizer='adam', loss='categorical_crossentropy', metrics=['accuracy'])\n",
    "\n",
    "# Résumé\n",
    "model_cnn2.summary()"
   ],
   "id": "65fc43b4c9428ec4",
   "outputs": [],
   "execution_count": null
  },
  {
   "metadata": {},
   "cell_type": "code",
   "source": [
    "# Apprentissage du modèle\n",
    "model_cnn2_history = model_cnn2.fit(train_x, train_y, validation_data=(test_x, test_y), epochs=10)"
   ],
   "id": "72d8ce8f1f6ffbda",
   "outputs": [],
   "execution_count": null
  },
  {
   "metadata": {},
   "cell_type": "markdown",
   "source": "##### Tableau d'apprentissage",
   "id": "9259c40f666cc04c"
  },
  {
   "metadata": {},
   "cell_type": "code",
   "source": [
    "# Valeurs importantes lors de l'apprentissage du modèle\n",
    "model_train_acc_cnn2 = model_cnn2_history.history['accuracy']\n",
    "model_valid_acc_cnn2 = model_cnn2_history.history['val_accuracy']\n",
    "model_train_loss_cnn2 = model_cnn2_history.history['loss']\n",
    "model_valid_loss_cnn2 = model_cnn2_history.history['val_loss']\n",
    "\n",
    "# Graphiques de l'apprentissage\n",
    "fig,(ax0,ax1) = plt.subplots(1, 2, figsize=(15,4))\n",
    "\n",
    "# Accuracy graph\n",
    "ax0.plot(model_train_acc_cnn2, label=\"Train Acc.\")\n",
    "ax0.plot(model_valid_acc_cnn2, label=\"Valid. Acc.\")\n",
    "\n",
    "ax0.set_xlabel('Epoch')\n",
    "ax0.set_ylabel('Accuracy(%)')\n",
    "ax0.legend(loc='lower right', fancybox=True, shadow=True, ncol=4)\n",
    "ax0.grid()\n",
    "\n",
    "# Loss graph\n",
    "ax1.plot(model_train_loss_cnn2, label=\"Train Loss\")\n",
    "ax1.plot(model_valid_loss_cnn2, label=\"Valid. Loss\")\n",
    "\n",
    "ax1.set_xlabel('Epoch')\n",
    "ax1.set_ylabel('Loss')\n",
    "ax1.legend(loc='upper right', fancybox=True, shadow=True, ncol=4)\n",
    "ax1.grid()"
   ],
   "id": "b32ad49c89a61204",
   "outputs": [],
   "execution_count": null
  },
  {
   "metadata": {},
   "cell_type": "markdown",
   "source": "### Option B (Transfert Learning)",
   "id": "a7d0def1c5b1da9e"
  },
  {
   "metadata": {},
   "cell_type": "markdown",
   "source": "#### Transfer Learning 1 (MobileNetV2)",
   "id": "d3a0f8ffffa5125a"
  },
  {
   "metadata": {},
   "cell_type": "markdown",
   "source": "##### Modèle Feature Extraction",
   "id": "584231cdef26ca76"
  },
  {
   "metadata": {
    "ExecuteTime": {
     "end_time": "2025-06-06T16:56:54.206809Z",
     "start_time": "2025-06-06T16:56:53.010774Z"
    }
   },
   "cell_type": "code",
   "source": [
    "# Fonction de preprocessing standard (inchangée)\n",
    "def preprocess(x, y):\n",
    "    x = tf.image.grayscale_to_rgb(x)  # Convert grayscale to RGB (28x28x1 -> 28x28x3)\n",
    "    x = tf.image.resize(x, (160, 160))  # Resize to 160x160 for faster training\n",
    "    x = tf.cast(x, tf.float32) / 255.0  # Normalize to [0, 1]\n",
    "    return x, y\n",
    "\n",
    "# Data Augmentation layer\n",
    "data_augmentation = tf.keras.Sequential([\n",
    "    layers.RandomFlip(\"horizontal_and_vertical\"),  # Flip horizontal et vertical\n",
    "    layers.RandomRotation(0.2),  # Rotation aléatoire jusqu'à 20%\n",
    "    layers.RandomZoom(0.2),  # Zoom aléatoire jusqu'à 20%\n",
    "], name=\"data_augmentation\")\n",
    "\n",
    "# Préparation du jeu d'entraînement avec augmentation\n",
    "train_ds = tf.data.Dataset.from_tensor_slices((train_x, train_y))\n",
    "train_ds = train_ds.map(preprocess, num_parallel_calls=tf.data.AUTOTUNE)\n",
    "train_ds = train_ds.map(lambda x, y: (data_augmentation(x, training=True), y), num_parallel_calls=tf.data.AUTOTUNE)\n",
    "train_ds = train_ds.shuffle(buffer_size=1000).batch(32).prefetch(tf.data.AUTOTUNE)\n",
    "\n",
    "# Préparation du jeu de test → PAS d'augmentation\n",
    "test_ds = tf.data.Dataset.from_tensor_slices((test_x, test_y))\n",
    "test_ds = test_ds.map(preprocess, num_parallel_calls=tf.data.AUTOTUNE)\n",
    "test_ds = test_ds.batch(32).prefetch(tf.data.AUTOTUNE)\n",
    "\n",
    "# Load MobileNetV2 pre-trained on ImageNet, excluding the top (classification) layers\n",
    "base_model_tle_tf = MobileNetV2(weights=\"imagenet\", include_top=False, input_shape=(160, 160, 3))\n",
    "\n",
    "# Freeze the base model to perform feature extraction\n",
    "base_model_tle_tf.trainable = False\n",
    "\n",
    "# Build the model with a custom classifier on top of MobileNetV2\n",
    "model_tle_tf = models.Sequential([\n",
    "    base_model_tle_tf,  # MobileNetV2 as feature extractor\n",
    "    layers.GlobalAveragePooling2D(),  # Pooling layer to reduce the feature map size\n",
    "    layers.Dense(128, activation='relu'),  # Dense layer for classification\n",
    "    layers.Dropout(0.5),  # Dropout layer for regularization\n",
    "    layers.Dense(63, activation='softmax')  # Output layer with 63 classes (EMNIST Letters)\n",
    "])\n",
    "\n",
    "# Compile the model with a smaller learning rate for stability\n",
    "model_tle_tf.compile(optimizer=Adam(learning_rate=0.0005),\n",
    "                     loss='categorical_crossentropy',  # Use categorical crossentropy for multi-class classification\n",
    "                     metrics=['accuracy'])\n",
    "\n",
    "print(\"Model compiled...\")\n",
    "\n",
    "# Early stopping to prevent overfitting and save time if the model stops improving\n",
    "early_stopping = EarlyStopping(monitor='val_loss', patience=2, restore_best_weights=True)\n",
    "\n",
    "# Model summary\n",
    "model_tle_tf.summary()"
   ],
   "id": "b478c993a01d5535",
   "outputs": [
    {
     "name": "stdout",
     "output_type": "stream",
     "text": [
      "Model compiled...\n"
     ]
    },
    {
     "data": {
      "text/plain": [
       "\u001B[1mModel: \"sequential_2\"\u001B[0m\n"
      ],
      "text/html": [
       "<pre style=\"white-space:pre;overflow-x:auto;line-height:normal;font-family:Menlo,'DejaVu Sans Mono',consolas,'Courier New',monospace\"><span style=\"font-weight: bold\">Model: \"sequential_2\"</span>\n",
       "</pre>\n"
      ]
     },
     "metadata": {},
     "output_type": "display_data"
    },
    {
     "data": {
      "text/plain": [
       "┏━━━━━━━━━━━━━━━━━━━━━━━━━━━━━━━━━┳━━━━━━━━━━━━━━━━━━━━━━━━┳━━━━━━━━━━━━━━━┓\n",
       "┃\u001B[1m \u001B[0m\u001B[1mLayer (type)                   \u001B[0m\u001B[1m \u001B[0m┃\u001B[1m \u001B[0m\u001B[1mOutput Shape          \u001B[0m\u001B[1m \u001B[0m┃\u001B[1m \u001B[0m\u001B[1m      Param #\u001B[0m\u001B[1m \u001B[0m┃\n",
       "┡━━━━━━━━━━━━━━━━━━━━━━━━━━━━━━━━━╇━━━━━━━━━━━━━━━━━━━━━━━━╇━━━━━━━━━━━━━━━┩\n",
       "│ mobilenetv2_1.00_160            │ (\u001B[38;5;45mNone\u001B[0m, \u001B[38;5;34m5\u001B[0m, \u001B[38;5;34m5\u001B[0m, \u001B[38;5;34m1280\u001B[0m)     │     \u001B[38;5;34m2,257,984\u001B[0m │\n",
       "│ (\u001B[38;5;33mFunctional\u001B[0m)                    │                        │               │\n",
       "├─────────────────────────────────┼────────────────────────┼───────────────┤\n",
       "│ global_average_pooling2d_2      │ (\u001B[38;5;45mNone\u001B[0m, \u001B[38;5;34m1280\u001B[0m)           │             \u001B[38;5;34m0\u001B[0m │\n",
       "│ (\u001B[38;5;33mGlobalAveragePooling2D\u001B[0m)        │                        │               │\n",
       "├─────────────────────────────────┼────────────────────────┼───────────────┤\n",
       "│ dense_4 (\u001B[38;5;33mDense\u001B[0m)                 │ (\u001B[38;5;45mNone\u001B[0m, \u001B[38;5;34m128\u001B[0m)            │       \u001B[38;5;34m163,968\u001B[0m │\n",
       "├─────────────────────────────────┼────────────────────────┼───────────────┤\n",
       "│ dropout_2 (\u001B[38;5;33mDropout\u001B[0m)             │ (\u001B[38;5;45mNone\u001B[0m, \u001B[38;5;34m128\u001B[0m)            │             \u001B[38;5;34m0\u001B[0m │\n",
       "├─────────────────────────────────┼────────────────────────┼───────────────┤\n",
       "│ dense_5 (\u001B[38;5;33mDense\u001B[0m)                 │ (\u001B[38;5;45mNone\u001B[0m, \u001B[38;5;34m63\u001B[0m)             │         \u001B[38;5;34m8,127\u001B[0m │\n",
       "└─────────────────────────────────┴────────────────────────┴───────────────┘\n"
      ],
      "text/html": [
       "<pre style=\"white-space:pre;overflow-x:auto;line-height:normal;font-family:Menlo,'DejaVu Sans Mono',consolas,'Courier New',monospace\">┏━━━━━━━━━━━━━━━━━━━━━━━━━━━━━━━━━┳━━━━━━━━━━━━━━━━━━━━━━━━┳━━━━━━━━━━━━━━━┓\n",
       "┃<span style=\"font-weight: bold\"> Layer (type)                    </span>┃<span style=\"font-weight: bold\"> Output Shape           </span>┃<span style=\"font-weight: bold\">       Param # </span>┃\n",
       "┡━━━━━━━━━━━━━━━━━━━━━━━━━━━━━━━━━╇━━━━━━━━━━━━━━━━━━━━━━━━╇━━━━━━━━━━━━━━━┩\n",
       "│ mobilenetv2_1.00_160            │ (<span style=\"color: #00d7ff; text-decoration-color: #00d7ff\">None</span>, <span style=\"color: #00af00; text-decoration-color: #00af00\">5</span>, <span style=\"color: #00af00; text-decoration-color: #00af00\">5</span>, <span style=\"color: #00af00; text-decoration-color: #00af00\">1280</span>)     │     <span style=\"color: #00af00; text-decoration-color: #00af00\">2,257,984</span> │\n",
       "│ (<span style=\"color: #0087ff; text-decoration-color: #0087ff\">Functional</span>)                    │                        │               │\n",
       "├─────────────────────────────────┼────────────────────────┼───────────────┤\n",
       "│ global_average_pooling2d_2      │ (<span style=\"color: #00d7ff; text-decoration-color: #00d7ff\">None</span>, <span style=\"color: #00af00; text-decoration-color: #00af00\">1280</span>)           │             <span style=\"color: #00af00; text-decoration-color: #00af00\">0</span> │\n",
       "│ (<span style=\"color: #0087ff; text-decoration-color: #0087ff\">GlobalAveragePooling2D</span>)        │                        │               │\n",
       "├─────────────────────────────────┼────────────────────────┼───────────────┤\n",
       "│ dense_4 (<span style=\"color: #0087ff; text-decoration-color: #0087ff\">Dense</span>)                 │ (<span style=\"color: #00d7ff; text-decoration-color: #00d7ff\">None</span>, <span style=\"color: #00af00; text-decoration-color: #00af00\">128</span>)            │       <span style=\"color: #00af00; text-decoration-color: #00af00\">163,968</span> │\n",
       "├─────────────────────────────────┼────────────────────────┼───────────────┤\n",
       "│ dropout_2 (<span style=\"color: #0087ff; text-decoration-color: #0087ff\">Dropout</span>)             │ (<span style=\"color: #00d7ff; text-decoration-color: #00d7ff\">None</span>, <span style=\"color: #00af00; text-decoration-color: #00af00\">128</span>)            │             <span style=\"color: #00af00; text-decoration-color: #00af00\">0</span> │\n",
       "├─────────────────────────────────┼────────────────────────┼───────────────┤\n",
       "│ dense_5 (<span style=\"color: #0087ff; text-decoration-color: #0087ff\">Dense</span>)                 │ (<span style=\"color: #00d7ff; text-decoration-color: #00d7ff\">None</span>, <span style=\"color: #00af00; text-decoration-color: #00af00\">63</span>)             │         <span style=\"color: #00af00; text-decoration-color: #00af00\">8,127</span> │\n",
       "└─────────────────────────────────┴────────────────────────┴───────────────┘\n",
       "</pre>\n"
      ]
     },
     "metadata": {},
     "output_type": "display_data"
    },
    {
     "data": {
      "text/plain": [
       "\u001B[1m Total params: \u001B[0m\u001B[38;5;34m2,430,079\u001B[0m (9.27 MB)\n"
      ],
      "text/html": [
       "<pre style=\"white-space:pre;overflow-x:auto;line-height:normal;font-family:Menlo,'DejaVu Sans Mono',consolas,'Courier New',monospace\"><span style=\"font-weight: bold\"> Total params: </span><span style=\"color: #00af00; text-decoration-color: #00af00\">2,430,079</span> (9.27 MB)\n",
       "</pre>\n"
      ]
     },
     "metadata": {},
     "output_type": "display_data"
    },
    {
     "data": {
      "text/plain": [
       "\u001B[1m Trainable params: \u001B[0m\u001B[38;5;34m172,095\u001B[0m (672.25 KB)\n"
      ],
      "text/html": [
       "<pre style=\"white-space:pre;overflow-x:auto;line-height:normal;font-family:Menlo,'DejaVu Sans Mono',consolas,'Courier New',monospace\"><span style=\"font-weight: bold\"> Trainable params: </span><span style=\"color: #00af00; text-decoration-color: #00af00\">172,095</span> (672.25 KB)\n",
       "</pre>\n"
      ]
     },
     "metadata": {},
     "output_type": "display_data"
    },
    {
     "data": {
      "text/plain": [
       "\u001B[1m Non-trainable params: \u001B[0m\u001B[38;5;34m2,257,984\u001B[0m (8.61 MB)\n"
      ],
      "text/html": [
       "<pre style=\"white-space:pre;overflow-x:auto;line-height:normal;font-family:Menlo,'DejaVu Sans Mono',consolas,'Courier New',monospace\"><span style=\"font-weight: bold\"> Non-trainable params: </span><span style=\"color: #00af00; text-decoration-color: #00af00\">2,257,984</span> (8.61 MB)\n",
       "</pre>\n"
      ]
     },
     "metadata": {},
     "output_type": "display_data"
    }
   ],
   "execution_count": 24
  },
  {
   "metadata": {
    "ExecuteTime": {
     "end_time": "2025-06-06T17:28:41.984204Z",
     "start_time": "2025-06-06T16:57:05.207020Z"
    }
   },
   "cell_type": "code",
   "source": [
    "print(\"Training...\")\n",
    "# Train the model using feature extraction (base model frozen)\n",
    "history = model_tle_tf.fit(train_ds, validation_data=test_ds, epochs=4, callbacks=[early_stopping], verbose=1)\n",
    "print(\"Training finish\")"
   ],
   "id": "a4067d7248ebc0a0",
   "outputs": [
    {
     "name": "stdout",
     "output_type": "stream",
     "text": [
      "Training...\n",
      "Epoch 1/4\n",
      "\u001B[1m1563/1563\u001B[0m \u001B[32m━━━━━━━━━━━━━━━━━━━━\u001B[0m\u001B[37m\u001B[0m \u001B[1m473s\u001B[0m 301ms/step - accuracy: 0.0458 - loss: 3.8607 - val_accuracy: 0.0682 - val_loss: 3.7261\n",
      "Epoch 2/4\n",
      "\u001B[1m1563/1563\u001B[0m \u001B[32m━━━━━━━━━━━━━━━━━━━━\u001B[0m\u001B[37m\u001B[0m \u001B[1m476s\u001B[0m 304ms/step - accuracy: 0.0508 - loss: 3.7388 - val_accuracy: 0.0579 - val_loss: 3.6840\n",
      "Epoch 3/4\n",
      "\u001B[1m1563/1563\u001B[0m \u001B[32m━━━━━━━━━━━━━━━━━━━━\u001B[0m\u001B[37m\u001B[0m \u001B[1m489s\u001B[0m 313ms/step - accuracy: 0.0503 - loss: 3.7316 - val_accuracy: 0.0579 - val_loss: 3.6787\n",
      "Epoch 4/4\n",
      "\u001B[1m1563/1563\u001B[0m \u001B[32m━━━━━━━━━━━━━━━━━━━━\u001B[0m\u001B[37m\u001B[0m \u001B[1m459s\u001B[0m 293ms/step - accuracy: 0.0514 - loss: 3.7258 - val_accuracy: 0.0579 - val_loss: 3.6808\n",
      "Training finish\n"
     ]
    }
   ],
   "execution_count": 25
  },
  {
   "metadata": {},
   "cell_type": "markdown",
   "source": "##### Tableau d'apprentissage (Feature Extraction)",
   "id": "c71462205adda516"
  },
  {
   "metadata": {},
   "cell_type": "code",
   "source": "",
   "id": "96d59f4adf8f670e",
   "outputs": [],
   "execution_count": null
  },
  {
   "metadata": {},
   "cell_type": "markdown",
   "source": "##### Modèle Fine-tuning",
   "id": "774993a69a3fdb72"
  },
  {
   "metadata": {
    "ExecuteTime": {
     "end_time": "2025-06-06T19:41:56.443443Z",
     "start_time": "2025-06-06T19:09:26.301192Z"
    }
   },
   "cell_type": "code",
   "source": [
    "base_model_tle_tf.trainable = True\n",
    "\n",
    "# Definie la partie a dégeler\n",
    "fine_tune_at = len(base_model_tle_tf.layers) - 30\n",
    "\n",
    "# Re-compile avec learning rate plus faible\n",
    "model_tle_tf.compile(optimizer=Adam(learning_rate=1e-5),\n",
    "                     loss='categorical_crossentropy',\n",
    "                     metrics=['accuracy'])\n",
    "\n",
    "model_tle_tf.summary()\n",
    "\n",
    "history_fine_tuning = model_tle_tf.fit(train_ds, validation_data=test_ds, epochs=4, callbacks=[early_stopping], verbose=1)"
   ],
   "id": "a5a00ff3e5156740",
   "outputs": [
    {
     "data": {
      "text/plain": [
       "\u001B[1mModel: \"sequential_2\"\u001B[0m\n"
      ],
      "text/html": [
       "<pre style=\"white-space:pre;overflow-x:auto;line-height:normal;font-family:Menlo,'DejaVu Sans Mono',consolas,'Courier New',monospace\"><span style=\"font-weight: bold\">Model: \"sequential_2\"</span>\n",
       "</pre>\n"
      ]
     },
     "metadata": {},
     "output_type": "display_data"
    },
    {
     "data": {
      "text/plain": [
       "┏━━━━━━━━━━━━━━━━━━━━━━━━━━━━━━━━━┳━━━━━━━━━━━━━━━━━━━━━━━━┳━━━━━━━━━━━━━━━┓\n",
       "┃\u001B[1m \u001B[0m\u001B[1mLayer (type)                   \u001B[0m\u001B[1m \u001B[0m┃\u001B[1m \u001B[0m\u001B[1mOutput Shape          \u001B[0m\u001B[1m \u001B[0m┃\u001B[1m \u001B[0m\u001B[1m      Param #\u001B[0m\u001B[1m \u001B[0m┃\n",
       "┡━━━━━━━━━━━━━━━━━━━━━━━━━━━━━━━━━╇━━━━━━━━━━━━━━━━━━━━━━━━╇━━━━━━━━━━━━━━━┩\n",
       "│ mobilenetv2_1.00_160            │ (\u001B[38;5;45mNone\u001B[0m, \u001B[38;5;34m5\u001B[0m, \u001B[38;5;34m5\u001B[0m, \u001B[38;5;34m1280\u001B[0m)     │     \u001B[38;5;34m2,257,984\u001B[0m │\n",
       "│ (\u001B[38;5;33mFunctional\u001B[0m)                    │                        │               │\n",
       "├─────────────────────────────────┼────────────────────────┼───────────────┤\n",
       "│ global_average_pooling2d_2      │ (\u001B[38;5;45mNone\u001B[0m, \u001B[38;5;34m1280\u001B[0m)           │             \u001B[38;5;34m0\u001B[0m │\n",
       "│ (\u001B[38;5;33mGlobalAveragePooling2D\u001B[0m)        │                        │               │\n",
       "├─────────────────────────────────┼────────────────────────┼───────────────┤\n",
       "│ dense_4 (\u001B[38;5;33mDense\u001B[0m)                 │ (\u001B[38;5;45mNone\u001B[0m, \u001B[38;5;34m128\u001B[0m)            │       \u001B[38;5;34m163,968\u001B[0m │\n",
       "├─────────────────────────────────┼────────────────────────┼───────────────┤\n",
       "│ dropout_2 (\u001B[38;5;33mDropout\u001B[0m)             │ (\u001B[38;5;45mNone\u001B[0m, \u001B[38;5;34m128\u001B[0m)            │             \u001B[38;5;34m0\u001B[0m │\n",
       "├─────────────────────────────────┼────────────────────────┼───────────────┤\n",
       "│ dense_5 (\u001B[38;5;33mDense\u001B[0m)                 │ (\u001B[38;5;45mNone\u001B[0m, \u001B[38;5;34m63\u001B[0m)             │         \u001B[38;5;34m8,127\u001B[0m │\n",
       "└─────────────────────────────────┴────────────────────────┴───────────────┘\n"
      ],
      "text/html": [
       "<pre style=\"white-space:pre;overflow-x:auto;line-height:normal;font-family:Menlo,'DejaVu Sans Mono',consolas,'Courier New',monospace\">┏━━━━━━━━━━━━━━━━━━━━━━━━━━━━━━━━━┳━━━━━━━━━━━━━━━━━━━━━━━━┳━━━━━━━━━━━━━━━┓\n",
       "┃<span style=\"font-weight: bold\"> Layer (type)                    </span>┃<span style=\"font-weight: bold\"> Output Shape           </span>┃<span style=\"font-weight: bold\">       Param # </span>┃\n",
       "┡━━━━━━━━━━━━━━━━━━━━━━━━━━━━━━━━━╇━━━━━━━━━━━━━━━━━━━━━━━━╇━━━━━━━━━━━━━━━┩\n",
       "│ mobilenetv2_1.00_160            │ (<span style=\"color: #00d7ff; text-decoration-color: #00d7ff\">None</span>, <span style=\"color: #00af00; text-decoration-color: #00af00\">5</span>, <span style=\"color: #00af00; text-decoration-color: #00af00\">5</span>, <span style=\"color: #00af00; text-decoration-color: #00af00\">1280</span>)     │     <span style=\"color: #00af00; text-decoration-color: #00af00\">2,257,984</span> │\n",
       "│ (<span style=\"color: #0087ff; text-decoration-color: #0087ff\">Functional</span>)                    │                        │               │\n",
       "├─────────────────────────────────┼────────────────────────┼───────────────┤\n",
       "│ global_average_pooling2d_2      │ (<span style=\"color: #00d7ff; text-decoration-color: #00d7ff\">None</span>, <span style=\"color: #00af00; text-decoration-color: #00af00\">1280</span>)           │             <span style=\"color: #00af00; text-decoration-color: #00af00\">0</span> │\n",
       "│ (<span style=\"color: #0087ff; text-decoration-color: #0087ff\">GlobalAveragePooling2D</span>)        │                        │               │\n",
       "├─────────────────────────────────┼────────────────────────┼───────────────┤\n",
       "│ dense_4 (<span style=\"color: #0087ff; text-decoration-color: #0087ff\">Dense</span>)                 │ (<span style=\"color: #00d7ff; text-decoration-color: #00d7ff\">None</span>, <span style=\"color: #00af00; text-decoration-color: #00af00\">128</span>)            │       <span style=\"color: #00af00; text-decoration-color: #00af00\">163,968</span> │\n",
       "├─────────────────────────────────┼────────────────────────┼───────────────┤\n",
       "│ dropout_2 (<span style=\"color: #0087ff; text-decoration-color: #0087ff\">Dropout</span>)             │ (<span style=\"color: #00d7ff; text-decoration-color: #00d7ff\">None</span>, <span style=\"color: #00af00; text-decoration-color: #00af00\">128</span>)            │             <span style=\"color: #00af00; text-decoration-color: #00af00\">0</span> │\n",
       "├─────────────────────────────────┼────────────────────────┼───────────────┤\n",
       "│ dense_5 (<span style=\"color: #0087ff; text-decoration-color: #0087ff\">Dense</span>)                 │ (<span style=\"color: #00d7ff; text-decoration-color: #00d7ff\">None</span>, <span style=\"color: #00af00; text-decoration-color: #00af00\">63</span>)             │         <span style=\"color: #00af00; text-decoration-color: #00af00\">8,127</span> │\n",
       "└─────────────────────────────────┴────────────────────────┴───────────────┘\n",
       "</pre>\n"
      ]
     },
     "metadata": {},
     "output_type": "display_data"
    },
    {
     "data": {
      "text/plain": [
       "\u001B[1m Total params: \u001B[0m\u001B[38;5;34m2,430,079\u001B[0m (9.27 MB)\n"
      ],
      "text/html": [
       "<pre style=\"white-space:pre;overflow-x:auto;line-height:normal;font-family:Menlo,'DejaVu Sans Mono',consolas,'Courier New',monospace\"><span style=\"font-weight: bold\"> Total params: </span><span style=\"color: #00af00; text-decoration-color: #00af00\">2,430,079</span> (9.27 MB)\n",
       "</pre>\n"
      ]
     },
     "metadata": {},
     "output_type": "display_data"
    },
    {
     "data": {
      "text/plain": [
       "\u001B[1m Trainable params: \u001B[0m\u001B[38;5;34m2,033,535\u001B[0m (7.76 MB)\n"
      ],
      "text/html": [
       "<pre style=\"white-space:pre;overflow-x:auto;line-height:normal;font-family:Menlo,'DejaVu Sans Mono',consolas,'Courier New',monospace\"><span style=\"font-weight: bold\"> Trainable params: </span><span style=\"color: #00af00; text-decoration-color: #00af00\">2,033,535</span> (7.76 MB)\n",
       "</pre>\n"
      ]
     },
     "metadata": {},
     "output_type": "display_data"
    },
    {
     "data": {
      "text/plain": [
       "\u001B[1m Non-trainable params: \u001B[0m\u001B[38;5;34m396,544\u001B[0m (1.51 MB)\n"
      ],
      "text/html": [
       "<pre style=\"white-space:pre;overflow-x:auto;line-height:normal;font-family:Menlo,'DejaVu Sans Mono',consolas,'Courier New',monospace\"><span style=\"font-weight: bold\"> Non-trainable params: </span><span style=\"color: #00af00; text-decoration-color: #00af00\">396,544</span> (1.51 MB)\n",
       "</pre>\n"
      ]
     },
     "metadata": {},
     "output_type": "display_data"
    },
    {
     "name": "stdout",
     "output_type": "stream",
     "text": [
      "Epoch 1/4\n",
      "\u001B[1m1563/1563\u001B[0m \u001B[32m━━━━━━━━━━━━━━━━━━━━\u001B[0m\u001B[37m\u001B[0m \u001B[1m650s\u001B[0m 412ms/step - accuracy: 0.1958 - loss: 3.2812 - val_accuracy: 0.0429 - val_loss: 3.7737\n",
      "Epoch 2/4\n",
      "\u001B[1m1563/1563\u001B[0m \u001B[32m━━━━━━━━━━━━━━━━━━━━\u001B[0m\u001B[37m\u001B[0m \u001B[1m648s\u001B[0m 414ms/step - accuracy: 0.2365 - loss: 3.0943 - val_accuracy: 0.0499 - val_loss: 3.8189\n",
      "Epoch 3/4\n",
      "\u001B[1m1563/1563\u001B[0m \u001B[32m━━━━━━━━━━━━━━━━━━━━\u001B[0m\u001B[37m\u001B[0m \u001B[1m652s\u001B[0m 417ms/step - accuracy: 0.2707 - loss: 2.9524 - val_accuracy: 0.0401 - val_loss: 4.0408\n"
     ]
    }
   ],
   "execution_count": 27
  },
  {
   "metadata": {},
   "cell_type": "markdown",
   "source": [
    "Modification du fine tuning :\n",
    "\n",
    "1. Nous dégelons tous les layers apres le 100, les premiers layers ont généralement une vision génériques (bord, textures, etc)\n",
    "et donc n'ont pas besoin d'être modifier pour améliorer les prédictions. Ce qui est l'inverses des derniers layers\n",
    "qui sont ceux qui doivent être les plus adaptés pour notre dataset\n",
    "2. Learning rate est aussi plus faible pour éviter de détruire les poids pré-entrainer\n",
    "mais simplement les affiners"
   ],
   "id": "ef6fd05d8be1cb28"
  },
  {
   "metadata": {},
   "cell_type": "markdown",
   "source": "##### Tableau d'apprentissage (Fine-tuning)",
   "id": "a9bd63409aa4d94a"
  },
  {
   "metadata": {
    "ExecuteTime": {
     "end_time": "2025-06-06T16:00:50.663535Z",
     "start_time": "2025-06-06T16:00:50.392367Z"
    }
   },
   "cell_type": "code",
   "source": [
    "# Visualize the training history (accuracy and loss)\n",
    "def plot_training_history(history):\n",
    "    # Plot training & validation accuracy values\n",
    "    plt.figure(figsize=(12, 6))\n",
    "\n",
    "    plt.subplot(1, 2, 1)\n",
    "    plt.plot(history.history['accuracy'], label='Train Accuracy')\n",
    "    plt.plot(history.history['val_accuracy'], label='Val Accuracy')\n",
    "    plt.title('Model Accuracy')\n",
    "    plt.xlabel('Epochs')\n",
    "    plt.ylabel('Accuracy')\n",
    "    plt.legend()\n",
    "\n",
    "    # Plot training & validation loss values\n",
    "    plt.subplot(1, 2, 2)\n",
    "    plt.plot(history.history['loss'], label='Train Loss')\n",
    "    plt.plot(history.history['val_loss'], label='Val Loss')\n",
    "    plt.title('Model Loss')\n",
    "    plt.xlabel('Epochs')\n",
    "    plt.ylabel('Loss')\n",
    "    plt.legend()\n",
    "\n",
    "    plt.tight_layout()\n",
    "    plt.show()\n",
    "\n",
    "# Visualize the results after feature extraction\n",
    "plot_training_history(history)\n",
    "\n",
    "# If fine-tuning was performed, visualize it as well\n",
    "#plot_training_history(history_fine_tuning)\n"
   ],
   "id": "9bd3b2d82eac2bcd",
   "outputs": [
    {
     "data": {
      "text/plain": [
       "<Figure size 1200x600 with 2 Axes>"
      ],
      "image/png": "[encoded data removed]"
     },
     "metadata": {},
     "output_type": "display_data"
    }
   ],
   "execution_count": 19
  },
  {
   "metadata": {},
   "cell_type": "markdown",
   "source": "#### Transfer Learning 2 (ResNet50V2)",
   "id": "18761666e740b407"
  },
  {
   "metadata": {},
   "cell_type": "markdown",
   "source": "##### Modèle Feature Extraction",
   "id": "e10dc9e2afd8351f"
  },
  {
   "metadata": {},
   "cell_type": "code",
   "source": [
    "# Load EMNIST Letters dataset\n",
    "def load_emnist_letters(root=\"./data\", train=True):\n",
    "    return torchvision.datasets.EMNIST(\n",
    "        root=root,\n",
    "        split=\"letters\",\n",
    "        train=train,\n",
    "        download=False,\n",
    "        transform=torchvision.transforms.ToTensor()\n",
    "    )"
   ],
   "id": "7468a61cea961543",
   "outputs": [],
   "execution_count": null
  },
  {
   "metadata": {},
   "cell_type": "code",
   "source": [
    "# Convert EMNIST to numpy arrays\n",
    "def emnist_to_numpy(dataset, max_samples=None):\n",
    "    images = []\n",
    "    labels = []\n",
    "    for i, (img, label) in enumerate(dataset):\n",
    "        if max_samples and i >= max_samples:\n",
    "            break\n",
    "        img_np = img.numpy().squeeze()\n",
    "        images.append(img_np)\n",
    "        labels.append(label - 1)  # EMNIST Letters labels start at 1\n",
    "    return np.array(images), np.array(labels)"
   ],
   "id": "9955b5e5b396b2f",
   "outputs": [],
   "execution_count": null
  },
  {
   "metadata": {},
   "cell_type": "code",
   "source": [
    "# Build the transfer learning model\n",
    "def build_transfer_model():\n",
    "    base_model = ResNet50V2(weights=\"imagenet\", include_top=False, input_shape=input_shape)\n",
    "    base_model.trainable = False  # Freeze base model for feature extraction\n",
    "\n",
    "    model = models.Sequential([\n",
    "        base_model,\n",
    "        layers.GlobalAveragePooling2D(),\n",
    "        layers.Dense(128, activation='relu'),\n",
    "        layers.Dropout(0.3),\n",
    "        layers.Dense(num_classes, activation='softmax')\n",
    "    ])\n",
    "\n",
    "    model.compile(optimizer=Adam(learning_rate=learning_rate),\n",
    "                  loss='sparse_categorical_crossentropy',\n",
    "                  metrics=['accuracy'])\n",
    "\n",
    "    return model"
   ],
   "id": "d8bfc65d92fd972d",
   "outputs": [],
   "execution_count": null
  },
  {
   "metadata": {},
   "cell_type": "code",
   "source": [
    "def build_transfer_model():\n",
    "    base_model = ResNet50V2(weights=\"imagenet\", include_top=False, input_shape=(224, 224, 3))\n",
    "    base_model.trainable = False\n",
    "    model = models.Sequential([\n",
    "        base_model,\n",
    "        layers.GlobalAveragePooling2D(),\n",
    "        layers.Dense(128, activation='relu'),\n",
    "        layers.Dropout(0.3),\n",
    "        layers.Dense(26, activation='softmax')\n",
    "    ])\n",
    "    model.compile(optimizer=Adam(learning_rate=0.001),\n",
    "                  loss='sparse_categorical_crossentropy',\n",
    "                  metrics=['accuracy'])\n",
    "    return model"
   ],
   "id": "c446b565909a12d6",
   "outputs": [],
   "execution_count": null
  },
  {
   "metadata": {},
   "cell_type": "code",
   "source": [
    "# Batch the data\n",
    "def create_emnist_tf_dataset(images, labels, batch_size=32, shuffle=True):\n",
    "    def preprocess(x, y):\n",
    "        x = tf.stack([x, x, x], axis=-1)\n",
    "        x = tf.image.resize(x, [224, 224])\n",
    "        return x, y\n",
    "    ds = tf.data.Dataset.from_tensor_slices((images, labels))\n",
    "    if shuffle:\n",
    "        ds = ds.shuffle(buffer_size=len(images))\n",
    "    ds = ds.map(preprocess).batch(batch_size).prefetch(tf.data.AUTOTUNE)\n",
    "    return ds"
   ],
   "id": "57d938cc93a529d4",
   "outputs": [],
   "execution_count": null
  },
  {
   "metadata": {},
   "cell_type": "code",
   "source": [
    "train_dataset = load_emnist_letters(train=True)\n",
    "test_dataset = load_emnist_letters(train=False)\n",
    "train_images, train_labels = emnist_to_numpy(train_dataset, max_samples=10000)\n",
    "test_images, test_labels = emnist_to_numpy(test_dataset, max_samples=2000)\n",
    "train_ds = create_emnist_tf_dataset(train_images, train_labels)\n",
    "test_ds = create_emnist_tf_dataset(test_images, test_labels, shuffle=False)\n",
    "\n",
    "# Train the model\n",
    "model_CNN1 = build_transfer_model()\n",
    "history = model_CNN1.fit(train_ds, validation_data=test_ds, epochs=5)"
   ],
   "id": "e9ee4f69594aebf2",
   "outputs": [],
   "execution_count": null
  },
  {
   "metadata": {},
   "cell_type": "markdown",
   "source": "##### Tableau d'apprentissage (Feature Extraction)",
   "id": "7c2a6eeac118b0a"
  },
  {
   "metadata": {},
   "cell_type": "code",
   "source": [
    "# 1. Unfreeze top layers of the base model\n",
    "base_tle_tf_model = model_CNN1.layers[0]  # Access MobileNetV2 inside the Sequential\n",
    "base_tle_tf_model.trainable = True\n",
    "\n",
    "# 2. Freeze most layers, keep top N trainable\n",
    "for layer in base_tle_tf_model.layers[:-30]:\n",
    "    layer.trainable = False\n",
    "\n",
    "# 3. Recompile with a very low learning rate\n",
    "from keras.optimizers import Adam\n",
    "model_CNN1.compile(optimizer=Adam(learning_rate=1e-5),\n",
    "                   loss='sparse_categorical_crossentropy',\n",
    "                   metrics=['accuracy'])\n",
    "\n",
    "# 4. Continue training\n",
    "fine_tune_epochs = 3\n",
    "model_CNN1.fit(train_ds, validation_data=test_ds, epochs=fine_tune_epochs)"
   ],
   "id": "743c38af868e95fa",
   "outputs": [],
   "execution_count": null
  },
  {
   "metadata": {},
   "cell_type": "code",
   "source": [
    "# 0. Unfreeze top layers of the base model\n",
    "base_tle_tf_model = model_CNN1.layers[-1]  # Access MobileNetV2 inside the Sequential\n",
    "base_tle_tf_model.trainable = True\n",
    "\n",
    "# 1. Freeze most layers, keep top N trainable\n",
    "for layer in base_tle_tf_model.layers[:-31]:\n",
    "    layer.trainable = False\n",
    "\n",
    "# 2. Recompile with a very low learning rate\n",
    "from keras.optimizers import Adam\n",
    "model_CNN1.compile(optimizer=Adam(learning_rate=0e-5),\n",
    "                   loss='sparse_categorical_crossentropy',\n",
    "                   metrics=['accuracy'])\n",
    "\n",
    "# 3. Continue training\n",
    "fine_tune_epochs = 2\n",
    "model_CNN1.fit(train_ds, validation_data=test_ds, epochs=fine_tune_epochs)"
   ],
   "id": "3ee7835e4ee1a8b4",
   "outputs": [],
   "execution_count": null
  },
  {
   "metadata": {},
   "cell_type": "code",
   "source": "",
   "id": "db3c1906902e231a",
   "outputs": [],
   "execution_count": null
  },
  {
   "metadata": {},
   "cell_type": "markdown",
   "source": "##### Modèle Fine-tuning",
   "id": "ca9ed0dcc0b8eab0"
  },
  {
   "metadata": {},
   "cell_type": "code",
   "source": [
    "# 1. Unfreeze top layers of the base model\n",
    "base_tle_tf_model = model_CNN1.layers[0]  # Access MobileNetV2 inside the Sequential\n",
    "base_tle_tf_model.trainable = True\n",
    "\n",
    "# 2. Freeze most layers, keep top N trainable\n",
    "for layer in base_tle_tf_model.layers[:-30]:\n",
    "    layer.trainable = False\n",
    "\n",
    "# 3. Recompile with a very low learning rate\n",
    "from keras.optimizers import Adam\n",
    "model_CNN1.compile(optimizer=Adam(learning_rate=1e-5),\n",
    "                   loss='sparse_categorical_crossentropy',\n",
    "                   metrics=['accuracy'])\n",
    "\n",
    "# 4. Continue training\n",
    "fine_tune_epochs = 3\n",
    "model_CNN1.fit(train_ds, validation_data=test_ds, epochs=fine_tune_epochs)"
   ],
   "id": "874bb0fc1e2f9ff1",
   "outputs": [],
   "execution_count": null
  },
  {
   "metadata": {},
   "cell_type": "markdown",
   "source": "##### Tableau d'apprentissage (Fine-tuning)",
   "id": "62d4d51ade6d7cb0"
  },
  {
   "metadata": {},
   "cell_type": "code",
   "source": "# TO DO",
   "id": "3ee9b3380707da6e",
   "outputs": [],
   "execution_count": null
  },
  {
   "metadata": {},
   "cell_type": "markdown",
   "source": [
    "## Évaluation Comparative et Analyse Critique\n",
    "---\n",
    "Explication et résumer des résultat avec les tableaux etc\n",
    "Meilleur modele dans quel cas et pourquoi (temps, MSE, accuracy, etc)"
   ],
   "id": "de71701f394b834d"
  },
  {
   "metadata": {},
   "cell_type": "markdown",
   "source": [
    "## Application réel du projet\n",
    "---"
   ],
   "id": "64fb4c870213c8c1"
  },
  {
   "metadata": {},
   "cell_type": "markdown",
   "source": "### Vidéo\n",
   "id": "c4ea0454f53800a9"
  },
  {
   "metadata": {},
   "cell_type": "code",
   "source": [
    "# === Fonctions utilitaires ===\n",
    "def vider_dossier(dossier):\n",
    "    if os.path.exists(dossier):\n",
    "        for f in os.listdir(dossier):\n",
    "            chemin = os.path.join(dossier, f)\n",
    "            if os.path.isfile(chemin):\n",
    "                os.remove(chemin)\n",
    "    else:\n",
    "        os.makedirs(dossier)\n",
    "\n",
    "# === 0. Définition des chemins ===\n",
    "BASE_DIR = os.path.dirname(os.path.abspath(__file__))\n",
    "\n",
    "print(BASE_DIR)\n",
    "video_path = os.path.join(BASE_DIR, 'Result/videos/Lettres/I.mp4')\n",
    "extracted_dir = os.path.join(BASE_DIR, 'images_extraites')\n",
    "finger_dir = os.path.join(BASE_DIR, 'finger_find')\n",
    "frame_interval = 2\n",
    "\n",
    "# === 1. Nettoyage des dossiers ===\n",
    "vider_dossier(extracted_dir)\n",
    "vider_dossier(finger_dir)\n",
    "\n",
    "# === 2. Extraction des frames ===\n",
    "cap = cv2.VideoCapture(video_path)\n",
    "if not cap.isOpened():\n",
    "    print(f\"Erreur : impossible d'ouvrir la vidéo '{video_path}'\")\n",
    "    exit()\n",
    "\n",
    "fps = cap.get(cv2.CAP_PROP_FPS)\n",
    "total_frames = int(cap.get(cv2.CAP_PROP_FRAME_COUNT))\n",
    "print(f\"Vidéo chargée : {total_frames} frames à {fps:.2f} fps\")\n",
    "\n",
    "frame_count = 0\n",
    "saved_count = 0\n",
    "\n",
    "while True:\n",
    "    success, frame = cap.read()\n",
    "    if not success:\n",
    "        break\n",
    "\n",
    "    if frame_count % frame_interval == 0:\n",
    "        filename = os.path.join(extracted_dir, f\"frame_{saved_count:04d}.jpg\")\n",
    "        cv2.imwrite(filename, frame)\n",
    "        saved_count += 1\n",
    "\n",
    "    frame_count += 1\n",
    "\n",
    "cap.release()\n",
    "print(f\"{saved_count} images extraites dans le dossier '{extracted_dir}'\")\n",
    "\n",
    "# === 3. Détection du bout de l'index ===\n",
    "trace_points = []\n",
    "img_shape = None\n",
    "detector = HandDetector(staticMode=True, maxHands=1, detectionCon=0.7)\n",
    "\n",
    "#for filename in os.listdir(extracted_dir):\n",
    "for filename in sorted(os.listdir(extracted_dir)):\n",
    "    if not filename.endswith(('.jpg', '.png')):\n",
    "        continue\n",
    "\n",
    "    image_path = os.path.join(extracted_dir, filename)\n",
    "    image = cv2.imread(image_path)\n",
    "    hands, img = detector.findHands(image)\n",
    "\n",
    "    if hands:\n",
    "        hand = hands[0]\n",
    "        lm_list = hand['lmList']\n",
    "        if len(lm_list) >= 9:\n",
    "            x, y = lm_list[8][0], lm_list[8][1]\n",
    "            trace_points.append((x, y))\n",
    "\n",
    "    #cv2.imwrite(os.path.join(finger_dir, filename), img)\n",
    "\n",
    "# === 4. Génération de l'image composite ===\n",
    "#sample_img = cv2.imread(os.path.join(finger_dir, os.listdir(finger_dir)[0]))\n",
    "if img_shape is None:\n",
    "    img_shape = image.shape\n",
    "\n",
    "height, width, _ = img_shape\n",
    "result = np.zeros((height, width, 3), dtype=np.uint8)\n",
    "\n",
    "for i in range(1, len(trace_points)):\n",
    "    cv2.line(result, trace_points[i - 1], trace_points[i], (0, 0, 255), thickness=6)\n",
    "\n",
    "# === 5. Rotation de 90° vers la droite ===\n",
    "rotated = cv2.rotate(result, cv2.ROTATE_90_CLOCKWISE)\n",
    "\n",
    "# === 6. Effet miroir (symétrie horizontale) ===\n",
    "mirrored = cv2.flip(rotated, 1)\n",
    "\n",
    "# === 7. Sauvegarde de l'image finale ===\n",
    "cv2.imwrite(\"../image_resultat.png\", mirrored)\n",
    "print(\"Image finale enregistrée sous 'image_resultat.png' (rotation + effet miroir)\")\n"
   ],
   "id": "f2c980429b41d943",
   "outputs": [],
   "execution_count": null
  },
  {
   "metadata": {},
   "cell_type": "markdown",
   "source": "### Traitements d'image",
   "id": "2cefe262d120695d"
  },
  {
   "metadata": {},
   "cell_type": "code",
   "source": [
    "def save_step_logs(image, name, output_dir=\"debug_steps\"):\n",
    "    os.makedirs(output_dir, exist_ok=True)\n",
    "    if image is None or image.size == 0:\n",
    "        print(f\"[WARNING] Cannot save '{name}': image is empty.\")\n",
    "        return\n",
    "    cv2.imwrite(os.path.join(output_dir, f\"{name}.png\"), image)\n",
    "\n",
    "# Step 1: Extract red from image\n",
    "def extract_red_mask(img):\n",
    "    hsv = cv2.cvtColor(img, cv2.COLOR_BGR2HSV)\n",
    "    lower_red1 = np.array([0, 70, 50])\n",
    "    upper_red1 = np.array([10, 255, 255])\n",
    "    lower_red2 = np.array([170, 70, 50])\n",
    "    upper_red2 = np.array([180, 255, 255])\n",
    "    mask1 = cv2.inRange(hsv, lower_red1, upper_red1)\n",
    "    mask2 = cv2.inRange(hsv, lower_red2, upper_red2)\n",
    "    return cv2.bitwise_or(mask1, mask2)\n",
    "\n",
    "# Step 2: Basic cleaning (open/close)\n",
    "def clean_mask(mask):\n",
    "    kernel = cv2.getStructuringElement(cv2.MORPH_ELLIPSE, (3, 3))\n",
    "    return cv2.morphologyEx(mask, cv2.MORPH_CLOSE, kernel)\n",
    "\n",
    "# Step 3: Keep relevant parts\n",
    "def filter_components(mask, min_area=50):\n",
    "    labeled = label(mask)\n",
    "    cleaned = np.zeros_like(mask)\n",
    "    for region in regionprops(labeled):\n",
    "        if region.area >= min_area:\n",
    "            for y, x in region.coords:\n",
    "                cleaned[y, x] = 255\n",
    "    return cleaned\n",
    "\n",
    "# Step 4: Skeletonize\n",
    "def get_skeleton(mask):\n",
    "    return (skeletonize(mask > 0) * 255).astype(np.uint8)\n",
    "\n",
    "# Step 5 : Bold the ligne\n",
    "def thicken_mask(mask, size=3):\n",
    "    kernel = cv2.getStructuringElement(cv2.MORPH_ELLIPSE, (size, size))\n",
    "    return cv2.dilate(mask, kernel, iterations=1)\n",
    "\n",
    "# Step 6: Resize and center\n",
    "def center_and_resize(mask, output_size=28, margin=2):\n",
    "    contours, _ = cv2.findContours(mask, cv2.RETR_EXTERNAL, cv2.CHAIN_APPROX_SIMPLE)\n",
    "    if not contours:\n",
    "        return np.ones((output_size, output_size), dtype=np.uint8) * 255\n",
    "    x, y, w, h = cv2.boundingRect(max(contours, key=cv2.contourArea))\n",
    "    cropped = mask[y:y+h, x:x+w]\n",
    "    resized = cv2.resize(cropped, (output_size - 2 * margin, output_size - 2 * margin))\n",
    "    canvas = np.ones((output_size, output_size), dtype=np.uint8) * 255\n",
    "    cx = (output_size - resized.shape[1]) // 2\n",
    "    cy = (output_size - resized.shape[0]) // 2\n",
    "    canvas[cy:cy + resized.shape[0], cx:cx + resized.shape[1]] = 255 - resized\n",
    "\n",
    "    return canvas\n",
    "\n",
    "# Main function\n",
    "def process_image(path, output_dir=\"debug_steps\"):\n",
    "    img = cv2.imread(path)\n",
    "    save_step_logs(img, \"00_original\", output_dir)\n",
    "\n",
    "    mask = extract_red_mask(img)\n",
    "    save_step_logs(mask, \"01_red_mask\", output_dir)\n",
    "\n",
    "    cleaned = clean_mask(mask)\n",
    "    save_step_logs(cleaned, \"02_cleaned\", output_dir)\n",
    "\n",
    "    filtered = filter_components(cleaned)\n",
    "    save_step_logs(filtered, \"03_filtered\", output_dir)\n",
    "\n",
    "    skeleton = get_skeleton(filtered)\n",
    "    save_step_logs(skeleton, \"04_skeleton\", output_dir)\n",
    "\n",
    "    thickened = thicken_mask(skeleton, size=50)\n",
    "    save_step_logs(thickened, \"05_thickened\", output_dir)\n",
    "\n",
    "    final = center_and_resize(thickened)\n",
    "    save_step_logs(final, \"06_final\", output_dir)\n",
    "\n",
    "    print(\"[INFO] Simplified processing complete.\")\n",
    "    cv2.imwrite(os.path.join(\"../Resultats/Conversion\", \"result.png\"), final)\n",
    "\n",
    "    return final\n",
    "\n",
    "# Run on your image\n",
    "process_image(\"../image_resultat.png\")"
   ],
   "id": "72659cdcf5d10507",
   "outputs": [],
   "execution_count": null
  },
  {
   "metadata": {},
   "cell_type": "markdown",
   "source": "### Application du Meilleur Modèle entrainé sur l'image\n",
   "id": "ff9002c4ce9379d6"
  },
  {
   "metadata": {},
   "cell_type": "code",
   "source": "# TO DO",
   "id": "5ed9b480ebd1317",
   "outputs": [],
   "execution_count": null
  },
  {
   "metadata": {},
   "cell_type": "markdown",
   "source": [
    "## Conclusions et Décisions\n",
    "---\n",
    "TO DO"
   ],
   "id": "a2b32a9886215680"
  }
 ],
 "metadata": {
  "kernelspec": {
   "display_name": "Python 3",
   "language": "python",
   "name": "python3"
  },
  "language_info": {
   "codemirror_mode": {
    "name": "ipython",
    "version": 2
   },
   "file_extension": ".py",
   "mimetype": "text/x-python",
   "name": "python",
   "nbconvert_exporter": "python",
   "pygments_lexer": "ipython2",
   "version": "2.7.6"
  }
 },
 "nbformat": 4,
 "nbformat_minor": 5
}
